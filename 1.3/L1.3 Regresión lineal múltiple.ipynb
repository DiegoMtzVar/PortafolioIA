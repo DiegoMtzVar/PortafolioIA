{
  "cells": [
    {
      "cell_type": "markdown",
      "id": "5d8255bc",
      "metadata": {
        "id": "5d8255bc"
      },
      "source": [
        "# L1.3 Regresión lineal múltiple\n",
        "\n",
        "En esta lectura generaremos un modelo de regresión lineal múltiple, revisaremos si el modelo es útil (si alguna variable está asociada significativamente a la respuesta), analizaremos una variable de forma específica, y revisaremos la calidad del ajuste del modelo, tanto en datos de entrenamiento, como en datos de validación.\n",
        "\n",
        "Por favor no modifiques las celdas con las instrucciones, y solamente escribe código en las celdas donde así se te indica. **Si en algún momento seleccionas por error una celda de instrucciones y su apariencia cambia, simplemente presiona \"Ctrl + Enter\".**\n",
        "\n",
        "Dentro de las celdas de código, las líneas que inician con un \"\\#\" son comentarios y no se ejecutarán, simplemente sirven como instrucciones o descripciones útiles para ustedes."
      ]
    },
    {
      "cell_type": "markdown",
      "id": "db0b474d",
      "metadata": {
        "id": "db0b474d"
      },
      "source": [
        "En este caso trabajaremos con los datos del Wine Quality Data Set, generados por Paulo Cortez y un grupo de investigación de la University of Minho, en Portugal, disponibles en [UCI Machine Learning Repository](https://archive.ics.uci.edu/dataset/186/wine+quality). Los investigadores utilizaron estos datos para tratar de modelar las preferencias de consumo de vino, generando un índice de calidad. Nosotros trataremos de usar la información disponible, justamente para predecir dicho índice. Puedes encontrar la base de datos junto con el material del curso; el archivo lleva por nombre \"L1.3 Vino Tinto.csv\".\n",
        "\n",
        "En la primera celda cargaremos la base de datos en una variable de nombre `df` usando la función `read_csv`de la librería de pandas, revisaremos el tamaño de la base de datos con la función `shape` y revisaremos los nombres de las variables con el operador `columns`. No olvides asegurarte de que el archivo a leer esté en el mismo directorio donde se encuentra esta libreta.<br><br>\n",
        "\n",
        "<details>\n",
        "    <summary>Si tienes problemas, da un click aquí para mostrar la solución</summary>\n",
        "    import pandas as pd<br>\n",
        "    df = pd.read_csv(\"Vino Tinto.csv\")<br>\n",
        "    print(df.shape)<br>\n",
        "    print(df.columns)\n",
        "</details>"
      ]
    },
    {
      "cell_type": "code",
      "execution_count": 2,
      "id": "1a2c988e",
      "metadata": {
        "id": "1a2c988e"
      },
      "outputs": [
        {
          "name": "stdout",
          "output_type": "stream",
          "text": [
            "(1599, 12)\n",
            "Index(['acidezFija', 'acidezVolatil', 'acidoCitrico', 'azucarResidual',\n",
            "       'cloruros', 'dioxidoAzufreLibre', 'dioxidoAzufreTotal', 'densidad',\n",
            "       'pH', 'sulfatos', 'alcohol', 'calidad'],\n",
            "      dtype='object')\n"
          ]
        }
      ],
      "source": [
        "# Importa la librería pandas\n",
        "import pandas as pd\n",
        "# Lee el archivo\n",
        "df = pd.read_csv('L1.3 Vino Tinto.csv')\n",
        "# Imprime en consola las dimensiones de los datos\n",
        "print(df.shape)\n",
        "# Imprime en consola los nombres de las variables\n",
        "print(df.columns)"
      ]
    },
    {
      "cell_type": "markdown",
      "id": "b76f3957",
      "metadata": {
        "id": "b76f3957"
      },
      "source": [
        "Como podrás notar, nuestra base de datos cuenta con 1599 observaciones distintas y 12 variables. Ya que una de esas variables, la calidad, será el valor a predecir, el modelo trabajará con 11 variables distintas: acidez fija, acidez volátil, ácido cítrico, azúcar residual, cloruros, dióxido de azufre libre, dióxido de azufre total, densidad, pH, sulfatos, y alcohol.\n",
        "\n",
        "Ya que nos interesa obtener al final del análisis tanto un error de entrenamiento, como uno de validación, separemos nuestra base de datos en dos, justamente en un subset de entrenamiento y uno de prueba. Primero realicemos el proceso por nuestra cuenta, de manera que entendamos lo que le sucede a los datos.\n",
        "\n",
        "El primer paso consistirá en usar el operador `sample` de pandas, para generar una muestra aleatoria de elementos de un objeto; especificaremos como parámetro que queremos obtener una fracción del 80% de los elementos originales. Almacenaremos el resultado de esta operación en una variable de nombre `train`.\n",
        "\n",
        "Posteriormente, generaremos una variable de nombre `test` donde almacenaremos los elementos que no fueron seleccionados para la etapa de entrenamiento. Para lograrlo, usaremos el operador `drop`, también de pandas, que se usa para eliminar ciertas filas (o columnas, dependiendo de la necesidad) de un *data frame*. Es decir, copiaremos la base de datos original, con excepción de las filas utilizadas para el subset de entrenamiento. Para determinar exactamente qué filas eliminar, usaremos el operador `index`, que entrega un identificador específico a cada observación.\n",
        "\n",
        "Para comprobar que el proceso fue exitoso, imprimiremos en consola las dimensiones de los nuevos subsets, así como las primeras 5 filas del set de entrenamiento.<br><br>\n",
        "\n",
        "<details>\n",
        "    <summary>Si tienes problemas, da un click aquí para mostrar la solución</summary>\n",
        "    train = df.sample(frac = 0.8)<br>\n",
        "    test = df.drop(train.index)<br>\n",
        "    print(\"Train:\", train.shape)<br>\n",
        "    print(\"Test:\",test.shape)<br>\n",
        "    print(train.head())\n",
        "</details>\n"
      ]
    },
    {
      "cell_type": "code",
      "execution_count": 3,
      "id": "1c342672",
      "metadata": {
        "id": "1c342672"
      },
      "outputs": [
        {
          "name": "stdout",
          "output_type": "stream",
          "text": [
            "Train: (1279, 12)\n",
            "Test: (320, 12)\n",
            "      acidezFija  acidezVolatil  acidoCitrico  azucarResidual  cloruros  \\\n",
            "878          8.8           0.61          0.19             4.0     0.094   \n",
            "1323         9.1           0.36          0.39             1.8     0.060   \n",
            "1286         7.1           0.16          0.44             2.5     0.068   \n",
            "1068        11.1           0.31          0.53             2.2     0.060   \n",
            "529          9.9           0.63          0.24             2.4     0.077   \n",
            "\n",
            "      dioxidoAzufreLibre  dioxidoAzufreTotal  densidad    pH  sulfatos  \\\n",
            "878                 30.0                69.0   0.99787  3.22      0.50   \n",
            "1323                21.0                55.0   0.99495  3.18      0.82   \n",
            "1286                17.0                31.0   0.99328  3.35      0.54   \n",
            "1068                 3.0                10.0   0.99572  3.02      0.83   \n",
            "529                  6.0                33.0   0.99740  3.09      0.57   \n",
            "\n",
            "      alcohol  calidad  \n",
            "878      10.0        6  \n",
            "1323     11.0        7  \n",
            "1286     12.4        6  \n",
            "1068     10.9        7  \n",
            "529       9.4        5  \n"
          ]
        }
      ],
      "source": [
        "# Genera datos de entrenamiento\n",
        "train = df.sample(frac=0.8)\n",
        "# Genera datos de validación\n",
        "test = df.drop(train.index)\n",
        "# Imprime dimensiones de datos de entrenamiento\n",
        "print(\"Train:\", train.shape)\n",
        "# Imprime dimensiones de datos de prueba\n",
        "print(\"Test:\", test.shape)\n",
        "# Imprime primeras 5 filas de datos de entrenamiento\n",
        "print(train.head())"
      ]
    },
    {
      "cell_type": "markdown",
      "id": "daf2040b",
      "metadata": {
        "id": "daf2040b"
      },
      "source": [
        "Ahora sabemos que contamos con 1279 observaciones de entrenamiento y 320 de validación. Es común que los sets de validación sean mucho más pequeños que los de entrenamiento, pues entre mayor información utilicemos para entrenar, un mejor dempeseño tenderá a tener el modelo.\n",
        "\n",
        "Otra forma de lograr el mismo objetivo, es usando la función `train_test_split` de la librería sklearn.model_selection. En la siguiente celda repetiremos el proceso previo usando esta función, definiendo los nombres de los datasets de salida en la misma línea, y dando como argumentos el nombre del *data frame* original y el tamaño (proporción entre 0 y 1) del set de entrenamiento que deseamos obtener.\n",
        "\n",
        "Igualmente, validaremos que el proceso haya sido exitoso imprimiendo en consola las dimensiones de los nuevos subsets, y revisando las primeras 5 filas del subset de entrenamiento.<br><br>\n",
        "\n",
        "<details>\n",
        "    <summary>Si tienes problemas, da un click aquí para mostrar la solución</summary>\n",
        "    from sklearn.model_selection import train_test_split<br>\n",
        "    train, test = train_test_split(df, train_size = 0.8)<br>\n",
        "    print(\"Train:\", train.shape)<br>\n",
        "    print(\"Test:\",test.shape)<br>\n",
        "    print(train.head())\n",
        "</details>"
      ]
    },
    {
      "cell_type": "code",
      "execution_count": 4,
      "id": "bd357682",
      "metadata": {
        "id": "bd357682"
      },
      "outputs": [
        {
          "name": "stdout",
          "output_type": "stream",
          "text": [
            "Train: (1279, 12)\n",
            "Test: (320, 12)\n",
            "      acidezFija  acidezVolatil  acidoCitrico  azucarResidual  cloruros  \\\n",
            "107          6.2          0.630          0.31             1.7     0.088   \n",
            "776          6.9          0.765          0.18             2.4     0.243   \n",
            "665          9.4          0.590          0.14             2.0     0.084   \n",
            "1589         6.6          0.725          0.20             7.8     0.073   \n",
            "385          7.4          0.630          0.07             2.4     0.090   \n",
            "\n",
            "      dioxidoAzufreLibre  dioxidoAzufreTotal  densidad    pH  sulfatos  \\\n",
            "107                 15.0                64.0   0.99690  3.46      0.79   \n",
            "776                  5.5                48.0   0.99612  3.40      0.60   \n",
            "665                 25.0                48.0   0.99810  3.14      0.56   \n",
            "1589                29.0                79.0   0.99770  3.29      0.54   \n",
            "385                 11.0                37.0   0.99790  3.43      0.76   \n",
            "\n",
            "      alcohol  calidad  \n",
            "107       9.3        5  \n",
            "776      10.3        6  \n",
            "665       9.7        5  \n",
            "1589      9.2        5  \n",
            "385       9.7        6  \n"
          ]
        }
      ],
      "source": [
        "# Importa la función train_test_split\n",
        "from sklearn.model_selection import train_test_split\n",
        "# Genera los datos de entrenamiento y validación\n",
        "train, test = train_test_split(df, train_size=0.8)\n",
        "# Imprime en consola las dimensiones de los datos de entrenamiento\n",
        "print(\"Train:\", train.shape)\n",
        "# Imprime en consola las dimensiones de los datos de prueba\n",
        "print(\"Test:\", test.shape)\n",
        "# Imprime en consola las primeras 5 filas de los datos de entrenamiento\n",
        "print(train.head())\n"
      ]
    },
    {
      "cell_type": "markdown",
      "id": "a4961f2f",
      "metadata": {
        "id": "a4961f2f"
      },
      "source": [
        "Como podrás observar, obtuvimos los mismos resultados en términos del tamaño de los objetos. Pero, las observaciones  no son las mismas entre ambas metodologías. Esto no se debe a que el proceso sea distinto, sino que en ambos casos partimos de una selección aleatoria de sujetos. De hecho, si vuelven a correr las celdas anteriores varias veces, cada ocasión observarán un resultado distinto.\n",
        "\n",
        "Es momento de realizar la regresión lineal múltiple. En esta ocasión nos apoyaremos de la misma función que utilizamos en la lectura interactiva del Módulo 3, `OLS` de la librería statsmodels.api. Primero definiremos $X$ y $Y$ a partir de los datos de entrenamiento; para generar el primer elemento simplemente eliminaremos la columna `calidad` del dataset `train` usando el operador `drop`; para el segundo elemento simplemente tomaremos dicha columna. Después definieremos el modelo `model` con la función `OLS`, utilizando como parámetros `Y` y `sm.add_constant(X)` para asegurarnos que el modelo incluya $\\beta_0$. Finalmente, estimaremos el valor de cada coeficiente con el método `fit`, almacenando los resultados en `results`. Para revisar los resultados obtenido, imprimiremos en pantalla un resumen utilizando el método `summary()`.<br><br>\n",
        "\n",
        "<details>\n",
        "    <summary>Si tienes problemas, da un click aquí para mostrar la solución</summary>\n",
        "    import statsmodels.api as sm<br>\n",
        "    X = train.drop('calidad', axis = 1)<br>\n",
        "    Y = train.calidad<br>\n",
        "    model = sm.OLS(Y,sm.add_constant(X))<br>\n",
        "    results = model.fit()<br>\n",
        "    print(results.summary())\n",
        "</details>"
      ]
    },
    {
      "cell_type": "code",
      "execution_count": 5,
      "id": "d01f8296",
      "metadata": {
        "id": "d01f8296",
        "scrolled": true
      },
      "outputs": [
        {
          "name": "stdout",
          "output_type": "stream",
          "text": [
            "                            OLS Regression Results                            \n",
            "==============================================================================\n",
            "Dep. Variable:                calidad   R-squared:                       0.373\n",
            "Model:                            OLS   Adj. R-squared:                  0.367\n",
            "Method:                 Least Squares   F-statistic:                     68.39\n",
            "Date:                Wed, 20 Aug 2025   Prob (F-statistic):          5.48e-120\n",
            "Time:                        19:36:26   Log-Likelihood:                -1252.4\n",
            "No. Observations:                1279   AIC:                             2529.\n",
            "Df Residuals:                    1267   BIC:                             2591.\n",
            "Df Model:                          11                                         \n",
            "Covariance Type:            nonrobust                                         \n",
            "======================================================================================\n",
            "                         coef    std err          t      P>|t|      [0.025      0.975]\n",
            "--------------------------------------------------------------------------------------\n",
            "const                 17.6402     23.791      0.741      0.459     -29.034      64.315\n",
            "acidezFija             0.0189      0.029      0.655      0.513      -0.038       0.076\n",
            "acidezVolatil         -1.1550      0.137     -8.441      0.000      -1.423      -0.887\n",
            "acidoCitrico          -0.2518      0.163     -1.542      0.123      -0.572       0.069\n",
            "azucarResidual         0.0224      0.017      1.326      0.185      -0.011       0.056\n",
            "cloruros              -1.9793      0.465     -4.252      0.000      -2.892      -1.066\n",
            "dioxidoAzufreLibre     0.0038      0.002      1.580      0.114      -0.001       0.009\n",
            "dioxidoAzufreTotal    -0.0030      0.001     -3.600      0.000      -0.005      -0.001\n",
            "densidad             -13.2369     24.278     -0.545      0.586     -60.866      34.392\n",
            "pH                    -0.5450      0.212     -2.568      0.010      -0.961      -0.129\n",
            "sulfatos               0.9313      0.131      7.128      0.000       0.675       1.188\n",
            "alcohol                0.2981      0.030     10.001      0.000       0.240       0.357\n",
            "==============================================================================\n",
            "Omnibus:                       24.595   Durbin-Watson:                   1.899\n",
            "Prob(Omnibus):                  0.000   Jarque-Bera (JB):               37.001\n",
            "Skew:                          -0.183   Prob(JB):                     9.23e-09\n",
            "Kurtosis:                       3.749   Cond. No.                     1.13e+05\n",
            "==============================================================================\n",
            "\n",
            "Notes:\n",
            "[1] Standard Errors assume that the covariance matrix of the errors is correctly specified.\n",
            "[2] The condition number is large, 1.13e+05. This might indicate that there are\n",
            "strong multicollinearity or other numerical problems.\n"
          ]
        }
      ],
      "source": [
        "# Importar librería\n",
        "import statsmodels.api as sm\n",
        "# Generar elemento X\n",
        "X = train.drop('calidad', axis=1)\n",
        "# Generar elemento Y\n",
        "Y = train['calidad']\n",
        "# Definir el tipo de modelo\n",
        "model = sm.OLS(Y, sm.add_constant(X))\n",
        "# Ajustar el modelo para obtener resultados\n",
        "results = model.fit()\n",
        "# Imprimir un resumen de los resultados\n",
        "print(results.summary())\n"
      ]
    },
    {
      "cell_type": "markdown",
      "id": "44bf6e78",
      "metadata": {
        "id": "44bf6e78"
      },
      "source": [
        "En el resumen de resultados previo podemos revisar múltiples detalles. Por ejemplo: el valor de cada uno de los coeficientes del modelo, el *p-value* asociado a cada uno de dichos coeficientes bajo una prueba de significancia de coeficientes individuales, el intervalo de confianza para cada coeficiente, el estadístico *F* y su *p-value* asociado, el valor de la $R^2$, etc. Sin embargo, por única ocasión, tratemos de comprobar si lo aprendido previamente nos ayuda a calcular por nuestra cuenta algunos de estos valores.\n",
        "\n",
        "Antes de hacerlo, revisa con atención las características del modelo. El *p-value* asociado al estadístico *F* nos indica que sí hay al menos una variable asociada de forma significativa con la salida. Adicionalmente, los *p-values* de los coeficientes individuales nos muestran qué variables específicamente son de interés (acidez volátil, cloruros, y alcohol, por ejemplo).\n",
        "\n",
        "Primero calcularemos el estadístico *F*, tal y como se describió en clase. Empezaremos calculando el EMS y el RMS a partir del ESS y del RSS; recuerden que el ESS se define como la sumatoria de la diferencia cuadrada entre el valor estimado de $Y$ y el valor promedio de $Y$, mientras que el RSS se define como la sumatoria de la diferencia cuadrada entre el valor actual de $Y$ y el valor estimado de $Y$.\n",
        "\n",
        "Realizarems este proceso en múltiples pasos:\n",
        "1. Estimar el valor de $Y$ a partir de los coeficientes estimados del modelo, usando el método `predict` sobre los datos `X`, tras agregarles una columna de unos con la función `add_constant`. En sí, esta función simplemente realiza el producto punto entre los datos y los coeficientes del modelo.\n",
        "2. Calcular el valor promedio de $Y$, usando la función `mean` de numpy.\n",
        "3. Calcular ESS.\n",
        "4. Calcular $m$ como la cantidad de variables de los datos de entrenamiento, usando la función `shape` y tomando solo el segundo elemento `[1]`.\n",
        "5. Calcular EMS (ESS/m).\n",
        "6. Calcular RSS.\n",
        "7. Calcular $n$ como la cantidad de observaciones de los datos de entrenamiento, usando la función `shape` y tomando solo el primero elemento `[0]`.\n",
        "8. Calcular RMS (RSS/(n-m-1)).\n",
        "9. Calcular F (EMS/RMS).\n",
        "10. Calcular el *p-value* asociado a dicho estadístico *F*. Para lograrlo, usaremos la función `f.sf` de la librería scipy.stats, incluyendo como parámetros el valor de *F*, los grados de libertas del EMS (m), y los grados de libertas del RMS (n-m-1).\n",
        "\n",
        "Al finalizar, imprimiremos en consola el valor del estadístico *F* y de su *p-value* asociado, para comprobar que son iguales a los resultados mostrados en el `summary` del modelo. Recuerda que deberás importar ambas librerías consideradas en los pasos previos.<br><br>\n",
        "\n",
        "<details>\n",
        "    <summary>Si tienes problemas, da un click aquí para mostrar la solución</summary>\n",
        "    import scipy.stats as st<br>\n",
        "    import numpy as np<br>\n",
        "    yhat = results.predict(sm.add_constant(X))<br>\n",
        "    ybar = np.mean(Y)<br>\n",
        "    ESS = sum((yhat - ybar)**2)<br>\n",
        "    m = X.shape[1]<br>\n",
        "    EMS = ESS / m<br>\n",
        "    RSS = sum((Y - yhat)**2)<br>\n",
        "    n = X.shape[0]<br>\n",
        "    RMS = RSS / (n - m - 1)<br>\n",
        "    F = EMS / RMS<br>\n",
        "    pval = st.f.sf(F, m, n - m - 1)<br>\n",
        "    print(\"F =\", F)<br>\n",
        "    print(\"p-value =\", pval)\n",
        "</details>"
      ]
    },
    {
      "cell_type": "code",
      "execution_count": 6,
      "id": "0280b7d6",
      "metadata": {
        "id": "0280b7d6",
        "scrolled": true
      },
      "outputs": [
        {
          "name": "stdout",
          "output_type": "stream",
          "text": [
            "Valor de F: 68.38972178383592\n",
            "Valor p: 5.4831895107283165e-120\n"
          ]
        }
      ],
      "source": [
        "# Importar librerías\n",
        "import scipy.stats as st\n",
        "import numpy as np\n",
        "# Calcular Y estimada\n",
        "yhat = results.predict(sm.add_constant(X))\n",
        "# Calcular el promedio de Y\n",
        "ybar = np.mean(Y)\n",
        "# Calcular el ESS\n",
        "ESS = np.sum((yhat - ybar) ** 2)\n",
        "# Calcular m\n",
        "m = X.shape[1]\n",
        "# Calcular EMS\n",
        "EMS = ESS / m\n",
        "# Calcular RSS\n",
        "RSS = np.sum((Y - yhat) ** 2)\n",
        "# Calcular n\n",
        "n = X.shape[0]\n",
        "# Calcular RMS\n",
        "RMS = RSS / (n - m - 1)\n",
        "# Calcular el estadístico F\n",
        "F = EMS / RMS\n",
        "# Calcular el p-value\n",
        "pval = st.f.sf(F, m, n - m - 1)\n",
        "# Imprimir el valor de F\n",
        "print(\"Valor de F:\", F)\n",
        "# Imprimir el p-value\n",
        "print(\"Valor p:\", pval)\n"
      ]
    },
    {
      "cell_type": "markdown",
      "id": "a2c571b5",
      "metadata": {
        "id": "a2c571b5"
      },
      "source": [
        "Si todo salió bien, los resultados deben ser los mismos que los obtenidos mediante la función `OLS`. Ahora revisemos el *p-value* de un coeficiente individual, trabajemos con el nivel de alcohol. Si recuerdan, en clase indicamos que para hacer esto, necesitamos primero generar un nuevo modelo, muy similar al que ya generamos, pero para el que los datos no incluyan a la variables de interés, el nivel de alcohol en este caso.\n",
        "\n",
        "Empecemos con eso, definamos `XNew` como `X` sin la columna de alcohol usando la función `drop`. Generemos un nuevo modelo usando la función `OLS` y estos nuevos datos, pero usando la misma variable de salida `Y`. Ajustemos el modelo, para así obtener los coeficientes estimados, usando el método `fit()`. Listo, tenemos un nuevo modelo que no incluye la variable de interés.<br><br>\n",
        "\n",
        "<details>\n",
        "    <summary>Si tienes problemas, da un click aquí para mostrar la solución</summary>\n",
        "    XNew = X.drop('alcohol', axis = 1)<br>\n",
        "    modelNew = sm.OLS(Y,sm.add_constant(XNew))<br>\n",
        "    resultsNew = modelNew.fit()\n",
        "</details>"
      ]
    },
    {
      "cell_type": "code",
      "execution_count": 8,
      "id": "e90a80a4",
      "metadata": {
        "id": "e90a80a4"
      },
      "outputs": [],
      "source": [
        "# Genera el nuevo elemento X, sin la variable alcohol\n",
        "XNew = train.drop(['calidad', 'alcohol'], axis=1)\n",
        "# Define el nuevo modelo\n",
        "modelNew = sm.OLS(Y, sm.add_constant(XNew))\n",
        "# Ajusta el nuevo modelo\n",
        "resultsNew = modelNew.fit()\n"
      ]
    },
    {
      "cell_type": "markdown",
      "id": "e75c0c3a",
      "metadata": {
        "id": "e75c0c3a"
      },
      "source": [
        "Ahora calculemos el *p-value* asociado, siguiendo la ecuación mostrada en clase. Realizaremos una serie de pasos muy similares a los usados para calcular el estadístico *F* global:\n",
        "1. Estimar el nuevo valor de $Y$ usando el método `predict` en los nuevos datos.\n",
        "2. Calcular el nuevo valor del RSS.\n",
        "3. Calcular el nuevo valor del EMS ((RSSNew - RSS)/1).\n",
        "4. Obtener el nuevo valor de F (EMSNew/RMS).\n",
        "5. Calcular el *p-value* asociado a dicho estadístico.\n",
        "6. Ya que lo que el `summary` muestra es el valor del estadístico *t*, calculamos dicho valor como la raíz cuadrada de *F* con la función `sqrt` de numpy.\n",
        "\n",
        "Ahora solo resta imprimir en consola cada uno de estos valores (nuevo valor de *F*, *t*, y nuevo *p-value*) y compararlos con los que muestra la tabla del `summary` unas cuantas celdas arriba de esta. Si el *p-value* del alcohol solo se lee como 0.000, usa el atributo `pvalues` para la columna `alcohol` en la variable de resultados, e imprime dicho valor en consola.<br><br>\n",
        "\n",
        "<details>\n",
        "    <summary>Si tienes problemas, da un click aquí para mostrar la solución</summary>\n",
        "    yhatNew = resultsNew.predict(sm.add_constant(XNew))<br>\n",
        "    RSSNew = sum((Y-yhatNew)**2)<br>\n",
        "    EMSNew = (RSSNew - RSS) / 1<br>\n",
        "    FNew = EMSNew / RMS<br>\n",
        "    pvalNew = st.f.sf(FNew, 1, n-m-1)<br>\n",
        "    t = np.sqrt(FNew)<br>\n",
        "    print(\"New F =\", FNew)<br>\n",
        "    print(\"t-value =\", t)<br>\n",
        "    print(\"p-value =\", pvalNew)<br>\n",
        "    print(\"OLS's p-value =\", results.pvalues.alcohol)\n",
        "</details>"
      ]
    },
    {
      "cell_type": "code",
      "execution_count": 14,
      "id": "38845b56",
      "metadata": {
        "id": "38845b56"
      },
      "outputs": [
        {
          "name": "stdout",
          "output_type": "stream",
          "text": [
            "Nuevo valor de F: 100.0163484304423\n",
            "Valor de t: 10.000817388115948\n",
            "Nuevo p-value: 1.0242979671312324e-22\n",
            "p-value de OLS: 1.0242979671334248e-22\n"
          ]
        }
      ],
      "source": [
        "# Realiza las nuevas estimaciones de Y\n",
        "yhatNew = resultsNew.predict(sm.add_constant(XNew))\n",
        "# Calcula el nuevo RSS\n",
        "RSSNew = sum((Y - yhatNew) ** 2)\n",
        "# Calcula el nuevo EMS\n",
        "EMSNew = (RSSNew - RSS) / 1\n",
        "# Calcula el nuevo estadístico F\n",
        "FNew = EMSNew / RMS\n",
        "# Obtén el nuevo p-value\n",
        "pvalNew = st.f.sf(FNew, 1, n - m - 1)\n",
        "# Calcula el estadístico t como la raíz cuadrada de F\n",
        "t = np.sqrt(FNew)\n",
        "# Imprime el nuevo valor de F\n",
        "print(\"Nuevo valor de F:\", FNew)\n",
        "\n",
        "# Imprime el valor de t\n",
        "print(\"Valor de t:\", t)\n",
        "\n",
        "# Imprime el p-value\n",
        "print(\"Nuevo p-value:\", pvalNew)\n",
        "\n",
        "# Imprime el p-value entregado por la función OLS\n",
        "print(\"p-value de OLS:\", results.pvalues.alcohol)"
      ]
    },
    {
      "cell_type": "markdown",
      "id": "65c3d025",
      "metadata": {
        "id": "65c3d025"
      },
      "source": [
        "Con esto, hemos comprobado que somos capaces de generar y analizar los resultados de una regresión lineal múltiple, incluso si en la práctica dejamos de calcular cada una de estas métricas de forma manual en el futuro. Pero, aún queda algo pendiente, recuerda que en un inicio separamos nuestros datos en `train` y `test`. Revisemos el ajuste del modelo en los datos de validación, calculando tanto el RSE como la $R^2$, siguiendo las ecuaciones mostradas en clase.\n",
        "\n",
        "De nuevo, seguiremos una serie de pasos:\n",
        "1. Generar `XTest` de forma similar a como se generó `X`, pero usando solo los datos de `test`.\n",
        "2. Estimar el valor de $Y$ para los datos de validación.\n",
        "3. Generar `YTest` de forma similar a como se generó `Y`.\n",
        "4. Calcular RSSTest.\n",
        "5. Calcular TSSTest, estimando el promedio de `YTest` con la función `mean` de numpy.\n",
        "6. Obtener el valor de `nTest`, la cantidad de observaciones de los datos de validación (debe tener un valor distinto a `n`, pues hay más sujetos en el set de entrenamiento que en el de validación).\n",
        "7. Obtener el valor de `mTest`, la cantidad de variables en los datos de validación (debe tener el mismo valor que `m`, pues usamos las mismas variables para entrenar y validar).\n",
        "8. Calcular RSETest (*residual standard error* en validación).\n",
        "9. Calcular R2Test (R cuadrada en validación).\n",
        "\n",
        "Al finalizar, imprime ambas métricas en consola.<br><br>\n",
        "\n",
        "<details>\n",
        "    <summary>Si tienes problemas, da un click aquí para mostrar la solución</summary>\n",
        "    XTest = test.drop('calidad', axis = 1)<br>\n",
        "    yhatTest = results.predict(sm.add_constant(XTest))<br>\n",
        "    YTest = test.calidad<br>\n",
        "    RSSTest = sum((YTest-yhatTest)**2)<br>\n",
        "    TSSTest = sum((YTest-np.mean(YTest))**2)<br>\n",
        "    nTest = XTest.shape[0]<br>\n",
        "    mTest = XTest.shape[1]<br>\n",
        "    RSETest = np.sqrt(RSSTest/(n-m-1))<br>\n",
        "    R2Test = 1 - RSSTest / TSSTest<br>\n",
        "    print(\"RSE =\", RSETest)<br>\n",
        "    print(\"R^2 =\", R2Test)<br>\n",
        "</details>"
      ]
    },
    {
      "cell_type": "code",
      "execution_count": 15,
      "id": "8b96ccba",
      "metadata": {
        "id": "8b96ccba"
      },
      "outputs": [
        {
          "name": "stdout",
          "output_type": "stream",
          "text": [
            "RSE = 0.3287150663189919\n",
            "R^2 = 0.3023004971112384\n"
          ]
        }
      ],
      "source": [
        "# Genera el elemento XTest\n",
        "XTest = test.drop('calidad', axis=1)\n",
        "# Estima los valores de Y para los datos de validación\n",
        "yhatTest = results.predict(sm.add_constant(XTest))\n",
        "# Genera el elemento YTest\n",
        "YTest = test.calidad\n",
        "# Calcula el RSS de validación\n",
        "RSSTest = sum((YTest - yhatTest) ** 2)\n",
        "# Calcula el TSS de validación\n",
        "TSSTest = sum((YTest - np.mean(YTest)) ** 2)\n",
        "# Define el valor de n para los datos de prueba\n",
        "nTest = XTest.shape[0]\n",
        "# Define el valor de m para los datos de prueba\n",
        "mTest = XTest.shape[1]\n",
        "# Calcula el RSE de validación\n",
        "RSETest = np.sqrt(RSSTest / (n - m - 1))\n",
        "# Calcula el R^2 de validación\n",
        "R2Test = 1 - (RSSTest / TSSTest)\n",
        "# Imprime el RSE\n",
        "print(\"RSE =\", RSETest)\n",
        "# Imprime el R^2\n",
        "print(\"R^2 =\", R2Test)\n"
      ]
    },
    {
      "cell_type": "markdown",
      "id": "c6becc9a",
      "metadata": {
        "id": "c6becc9a"
      },
      "source": [
        "En esta ocasión, los valores obtenidos no serán los mismos que los que se observan en `summary`, pues se está trabajando con otros datos. Sin embargo, es importante revisar que la diferencia no sea muy grande, pues eso indicaría problemas en nuestro modelo, típicamente relacionados a *overfitting*. Si estás interesado en revisar el RSE de entrenamiento, dicha métrica no se muestra en la tabla. Sin embargo, dicho valor puede calcularse de forma sencilla como la raíz cuadrada del atributo `scale` de los resultados.\n",
        "\n",
        "Listo, hemos terminado un análisis muy completo. Estás listo para realizar tus propios análisis e interpretar sus resultados."
      ]
    }
  ],
  "metadata": {
    "colab": {
      "provenance": []
    },
    "kernelspec": {
      "display_name": "Python 3",
      "language": "python",
      "name": "python3"
    },
    "language_info": {
      "codemirror_mode": {
        "name": "ipython",
        "version": 3
      },
      "file_extension": ".py",
      "mimetype": "text/x-python",
      "name": "python",
      "nbconvert_exporter": "python",
      "pygments_lexer": "ipython3",
      "version": "3.12.3"
    }
  },
  "nbformat": 4,
  "nbformat_minor": 5
}
