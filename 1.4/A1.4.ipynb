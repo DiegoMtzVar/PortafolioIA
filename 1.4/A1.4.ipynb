{
 "cells": [
  {
   "cell_type": "markdown",
   "id": "864e4e8a",
   "metadata": {},
   "source": [
    "# A1.4 Selección de características \n",
    "\n",
    "En la lectura interactiva de este módulo trabajamos con la base de datos de calidad de vino. Ahí, \n",
    "programamos “a mano”, métodos de selección de características. Pero, al final, te comenté que \n",
    "existen otras funciones que te permiten realizar este proceso de forma más sencilla y veloz. En \n",
    "esta actividad deberás generar un modelo de regresión lineal múltiple que contenga solamente \n",
    "las variables seleccionadas por un proceso de selección hacia adelante y eliminación hacia atrás. \n",
    " \n",
    "Utilizaremos  el  archivo  de  nombre “A1.4  Vino Tinto.csv”, donde podrás encontrar información \n",
    "para 1,599 observaciones distintas, con 11 mediciones para cada una de ellas, así como con una \n",
    "variable de salida, la calidad asignada a dicho vino. Los datos se descargaron del UCI Machine \n",
    "Learning Repository, y originalmente se reportaron en una publicación científica para la revista \n",
    "Decision Support Systems. \n",
    " \n",
    "La base de datos cuenta con la siguiente información: <br>\n",
    " “acidezFija”. La acidez fija del vino, medida en gramos de ácido tartárico por decímetro \n",
    "cúbico. <br>\n",
    " “acidezVolatil”. La acidez volátil del vino, medida en gramos de ácido acético por \n",
    "decímetro cúbico. <br>\n",
    " “acidoCitrico”. Gramos de tácito cítrico por decímetro cúbico.<br> \n",
    " “azucarResidual”. Gramos de azúcar por decímetro cúbico. <br>\n",
    " “cloruros”. Gramos de cloruro de sodio por decímetro cúbico. <br>\n",
    " “dioxidoAzufreLibre”. Miligramos de dióxido de azufre libre por decímetro cúbico. <br>\n",
    " “dioxidoAzufreTotal”. Miligramos de dióxido de azufre total por decímetro cúbico. <br>\n",
    " “densidad”. Medida en gramos por centímetro cúbico. <br>\n",
    " “pH”. Valor del vino en la escala de pH. <br>\n",
    " “sulfatos”. Gramos de sulfato de potasio por decímetro cúbico. <br>\n",
    " “alcohol”. Volúmen percentil de alcohol en el vino. <br>\n",
    " “calidad”. Mediana de la calidad otorgada por al menos tres catadores, en escala del 0 \n",
    "(muy malo) al 10 (excelente).  <br>\n",
    "Desarrolla  los  siguientes  puntos  en  una Jupyter  Notebook,  tratando,  dentro  de  lo  posible,  que \n",
    "cada  punto  se  trabaje  en  una  celda  distinta.  Los  comentarios  en  el  código  siempre  son \n",
    "bienvenidos, de preferencia, aprovecha el markdown para generar cuadros de descripción que \n",
    "ayuden al lector a comprender el trabajo realizado.\n",
    "\n",
    "1. Importa los datos del archivo “Vino Tinto.csv” a tu ambiente de trabajo. Este archivo lo \n",
    "encontrarás en la misma página donde descargaste esta plantilla. Revisa las dimensiones \n",
    "del data frame e imprime en consola tanto dichas dimensiones como las primeras 5 filas \n",
    "de datos. "
   ]
  },
  {
   "cell_type": "code",
   "execution_count": null,
   "id": "8501f522",
   "metadata": {},
   "outputs": [
    {
     "name": "stdout",
     "output_type": "stream",
     "text": [
      "(1599, 12)\n",
      "   acidezFija  acidezVolatil  acidoCitrico  azucarResidual  cloruros  \\\n",
      "0         7.4           0.70          0.00             1.9     0.076   \n",
      "1         7.8           0.88          0.00             2.6     0.098   \n",
      "2         7.8           0.76          0.04             2.3     0.092   \n",
      "3        11.2           0.28          0.56             1.9     0.075   \n",
      "4         7.4           0.70          0.00             1.9     0.076   \n",
      "\n",
      "   dioxidoAzufreLibre  dioxidoAzufreTotal  densidad    pH  sulfatos  alcohol  \\\n",
      "0                11.0                34.0    0.9978  3.51      0.56      9.4   \n",
      "1                25.0                67.0    0.9968  3.20      0.68      9.8   \n",
      "2                15.0                54.0    0.9970  3.26      0.65      9.8   \n",
      "3                17.0                60.0    0.9980  3.16      0.58      9.8   \n",
      "4                11.0                34.0    0.9978  3.51      0.56      9.4   \n",
      "\n",
      "   calidad  \n",
      "0        5  \n",
      "1        5  \n",
      "2        5  \n",
      "3        6  \n",
      "4        5  \n"
     ]
    }
   ],
   "source": [
    "import pandas as pd\n",
    "df = pd.read_csv(\"A1.4 Vino Tinto.csv\")\n",
    "\n",
    "print(df.shape)\n",
    "print(df.head(5))"
   ]
  },
  {
   "cell_type": "markdown",
   "id": "c1de72f1",
   "metadata": {},
   "source": [
    "2. Separa el data frame en datos de entrenamiento y datos de prueba con una proporción \n",
    "80/20. Es decir, el 80% de los datos se usarán para entrenar el modelo y el  resto para \n",
    "validar sus resultados. Asegúrate que la partición sea aleatoria, no es una buena práctica \n",
    "simplemente tomar las primeras observaciones para entrenar y las últimas para probar. \n",
    "Imprime en pantalla las dimensiones de ambos conjuntos de datos. Revisa y asegúrate \n",
    "que la cantidad de observaciones de ambos conjuntos de datos sumen a la cantidad de \n",
    "datos original."
   ]
  },
  {
   "cell_type": "code",
   "execution_count": 2,
   "id": "2c474533",
   "metadata": {},
   "outputs": [
    {
     "name": "stdout",
     "output_type": "stream",
     "text": [
      "(1279, 12)\n",
      "(320, 12)\n"
     ]
    }
   ],
   "source": [
    "from sklearn.model_selection import train_test_split\n",
    "\n",
    "train, test = train_test_split(df, train_size = 0.8)\n",
    "\n",
    "print(train.shape)\n",
    "print(test.shape)"
   ]
  },
  {
   "cell_type": "markdown",
   "id": "7f87922c",
   "metadata": {},
   "source": [
    "3. Genera la metodología de selección hacia adelante e imprime en consola los índices o \n",
    "los nombres de las características seleccionadas. Para realizar este proceso, te \n",
    "recomiendo  que  utilices  la  función  “SequentialFeatureSelector”  de  la  librería \n",
    "“mlxtend.feature_selection”, en este enlace encontrarás más información sobre la misma. \n",
    "Lo más probable es que cuando hayas descargado Anaconda, esta librería no se haya \n",
    "incluido  en  la  distribución,  por  lo  que  deberás  instalarla  manualmente;  al  final  de  las \n",
    "instrucciones de la actividad te indico cómo hacerlo. Aquí te dejo una descripción de los \n",
    "parámetros que te recomiendo usar:\n",
    "\n",
    "a. estimator. Un modelo de regresión lineal. Te recomiendo usar la función \n",
    "LinearRegression de la librería sklearn.linear_model. \n",
    "\n",
    "b. k_features. Se puede seleccionar la cantidad de variables de salida que se desean, \n",
    "pero te recomiendo mejor usar un rango, y que el algoritmo determine el número \n",
    "adecuado. Por ejemplo, puedes definir el parámetro como (2,8), si te interesa que \n",
    "el método seleccione entre 2 y 8 variables.\n",
    "\n",
    "c. forward. Determina si se hace selección hacia adelante (True) o hacia atrás (False); \n",
    "en este caso queremos hacer selección hacia adelante.\n",
    "\n",
    "d. scoring. La métrica que se usará para determinar si un modelo es mejor que otro, \n",
    "te recomiendo definirla como ‘r2’ para usar la R cuadrada.\n",
    "\n",
    "e. cv. Si se desea realizar validación cruzada, y cuántas instancias de la misma.  Te recomiendo definir este parámetro como 10."
   ]
  },
  {
   "cell_type": "code",
   "execution_count": 3,
   "id": "e75f54b8",
   "metadata": {},
   "outputs": [
    {
     "name": "stdout",
     "output_type": "stream",
     "text": [
      "Características seleccionadas:\n",
      "['acidezVolatil', 'cloruros', 'dioxidoAzufreLibre', 'dioxidoAzufreTotal', 'pH', 'sulfatos', 'alcohol']\n"
     ]
    }
   ],
   "source": [
    "from sklearn.linear_model import LinearRegression\n",
    "from mlxtend.feature_selection import SequentialFeatureSelector as SFS\n",
    "\n",
    "X_train = train.drop(columns=['calidad'])\n",
    "y_train = train['calidad']\n",
    "\n",
    "sfs = SFS(\n",
    "    estimator=LinearRegression(),\n",
    "    k_features=(2, 8),\n",
    "    forward=True,\n",
    "    scoring='r2',\n",
    "    cv=10,\n",
    "    n_jobs=-1\n",
    ")\n",
    "\n",
    "sfs.fit(X_train, y_train)\n",
    "\n",
    "selected_features = list(sfs.k_feature_names_)\n",
    "print(\"Características seleccionadas:\")\n",
    "print(selected_features)"
   ]
  },
  {
   "cell_type": "markdown",
   "id": "07c25331",
   "metadata": {},
   "source": [
    "4. Entrenar  un  modelo  que  solamente  contenga  las  variables  seleccionadas,  predecir  la \n",
    "respuesta en las observaciones de prueba y medir la capacidad de predicción del modelo \n",
    "usando  la  R  cuadrada,  imprimiendo  dicho  valor  en  consola.  Para  el  primer  paso, \n",
    "simplemente  necesitas  usar  la  función  fit  en  el  modelo  de  regresión  lineal  creado \n",
    "previamente,  asegurándote  de  no  introducir  toda  la  información  de  X,  sino  solo  de  las \n",
    "variables seleccionadas. Para realizar las predicciones, puedes usar la función predict en \n",
    "los  datos  de  prueba,  pero  recuerda  para  dichos  datos  también  seleccionar  solo  las \n",
    "variables  de  interés.  Para  el  último  paso,  te  recomiendo  usar  la  función  r2_score  de \n",
    "sklearn.metrics."
   ]
  },
  {
   "cell_type": "code",
   "execution_count": null,
   "id": "38e00418",
   "metadata": {},
   "outputs": [
    {
     "name": "stdout",
     "output_type": "stream",
     "text": [
      "R cuadrada del modelo con selección hacia adelante: 0.3658\n"
     ]
    }
   ],
   "source": [
    "from sklearn.metrics import r2_score\n",
    "\n",
    "# Entrenar el modelo solo con las variables seleccionadas\n",
    "model = LinearRegression()\n",
    "model.fit(X_train[selected_features], y_train)\n",
    "\n",
    "# Predecir en el conjunto de prueba usando solo las variables seleccionadas\n",
    "y_pred = model.predict(test[selected_features])\n",
    "\n",
    "# Calcular y mostrar la R cuadrada\n",
    "r2 = r2_score(test['calidad'], y_pred)\n",
    "print(f\"R cuadrada del modelo con selección hacia adelante: {r2:.4f}\")"
   ]
  },
  {
   "cell_type": "markdown",
   "id": "cf32f3a1",
   "metadata": {},
   "source": [
    "5. Realizar un proceso de selección hacia atrás a partir de las variables seleccionadas por \n",
    "el método de selección hacia adelante e imprimir en consola los índices o nombres de las \n",
    "variables seleccionadas. Para realizar este proceso, te recomiendo usar la misma función \n",
    "del paso 3, pero definiendo ahora forward=False. También te recomiendo especificar una \n",
    "menor cantidad de variables posibles, por ejemplo: k_features=(2,5)."
   ]
  },
  {
   "cell_type": "code",
   "execution_count": null,
   "id": "2551afd2",
   "metadata": {},
   "outputs": [
    {
     "name": "stdout",
     "output_type": "stream",
     "text": [
      "Características seleccionadas por selección hacia atrás:\n",
      "['acidezVolatil', 'cloruros', 'dioxidoAzufreTotal', 'sulfatos', 'alcohol']\n"
     ]
    }
   ],
   "source": [
    "# Selección hacia atrás usando solo las variables seleccionadas previamente\n",
    "sfs_backward = SFS(\n",
    "    estimator=LinearRegression(),\n",
    "    k_features=(2, 5),\n",
    "    forward=False,\n",
    "    scoring='r2',\n",
    "    cv=10,\n",
    "    n_jobs=-1\n",
    ")\n",
    "\n",
    "sfs_backward.fit(X_train[selected_features], y_train)\n",
    "\n",
    "selected_features_backward = list(sfs_backward.k_feature_names_)\n",
    "print(\"Características seleccionadas por selección hacia atrás:\")\n",
    "print(selected_features_backward)"
   ]
  },
  {
   "cell_type": "markdown",
   "id": "5697c794",
   "metadata": {},
   "source": [
    "6. Repetir el paso 4, pero para un modelo que contenga solamente las variables seleccionadas en el paso 5. Imprime en pantalla un breve texto que describa tu opinión sobre la diferencia en R cuadrada medida entre los modelos de los pasos 4 y 6, ¿cuál modelo consideras que es mejor? ¿Por qué?"
   ]
  },
  {
   "cell_type": "code",
   "execution_count": 8,
   "id": "eb39e58e",
   "metadata": {},
   "outputs": [
    {
     "name": "stdout",
     "output_type": "stream",
     "text": [
      "R cuadrada del modelo con selección hacia atrás: 0.3524\n",
      "Comparando ambos modelos, el modelo con selección hacia adelante tiene una R cuadrada de \n",
      "0.3658, mientras que el modelo con selección hacia atrás tiene una R cuadrada de \n",
      "0.3524. El modelo con mayor R cuadrada es preferible, ya que explica mejor la variabilidad \n",
      "de la variable de salida. Sin embargo, si la diferencia es pequeña, el modelo más simple (menos variables) \n",
      "puede ser mejor por su interpretabilidad y menor riesgo de sobreajuste.\n"
     ]
    }
   ],
   "source": [
    "from sklearn.metrics import r2_score\n",
    "\n",
    "# Entrenar el modelo solo con las variables seleccionadas por selección hacia atrás\n",
    "model_backward = LinearRegression()\n",
    "model_backward.fit(X_train[selected_features_backward], y_train)\n",
    "\n",
    "# Predecir en el conjunto de prueba usando solo las variables seleccionadas por selección hacia atrás\n",
    "y_pred_backward = model_backward.predict(test[selected_features_backward])\n",
    "\n",
    "# Calcular y mostrar la R cuadrada\n",
    "r2_backward = r2_score(test['calidad'], y_pred_backward)\n",
    "print(f\"R cuadrada del modelo con selección hacia atrás: {r2_backward:.4f}\")\n",
    "\n",
    "# Opinión sobre la diferencia en R cuadrada\n",
    "print(\n",
    "    \"Comparando ambos modelos, el modelo con selección hacia adelante tiene una R cuadrada de \\n\"\n",
    "    f\"{r2:.4f}, mientras que el modelo con selección hacia atrás tiene una R cuadrada de \\n\"\n",
    "    f\"{r2_backward:.4f}. El modelo con mayor R cuadrada es preferible, ya que explica mejor la variabilidad \\n\"\n",
    "    \"de la variable de salida. Sin embargo, si la diferencia es pequeña, el modelo más simple (menos variables) \\n\"\n",
    "    \"puede ser mejor por su interpretabilidad y menor riesgo de sobreajuste.\"\n",
    ")"
   ]
  }
 ],
 "metadata": {
  "kernelspec": {
   "display_name": "Python 3",
   "language": "python",
   "name": "python3"
  },
  "language_info": {
   "codemirror_mode": {
    "name": "ipython",
    "version": 3
   },
   "file_extension": ".py",
   "mimetype": "text/x-python",
   "name": "python",
   "nbconvert_exporter": "python",
   "pygments_lexer": "ipython3",
   "version": "3.12.3"
  }
 },
 "nbformat": 4,
 "nbformat_minor": 5
}
