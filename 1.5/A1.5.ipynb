{
 "cells": [
  {
   "cell_type": "markdown",
   "id": "35eba6e3",
   "metadata": {},
   "source": [
    "# A1.5 Solución de problemas \n",
    "\n",
    "Para  esta  actividad  trabajaremos  con  la  base  de  datos  de  calificaciones  que  utilizamos  en  la \n",
    "lectura  interactiva  L1.1  Aprendizaje  estadístico-automático.  Nos  interesa  tratar  de  predecir  la \n",
    "calificación  final  de  estudiantes  de  un  curso,  a  partir  de  su  información  demográfica  y  sus \n",
    "calificaciones de los primeros dos periodos. \n",
    " \n",
    "Utilizaremos el archivo de nombre “A1.5 Calificaciones.csv”, donde podrás encontrar información \n",
    "para  395  estudiantes,  con  10  variables  en  total.  Los  datos  se  descargaron  del  Student \n",
    "Performance  Data  Set  en  el  UCI  Machine  Learning  Repository,  y  podrás  encontrar  más \n",
    "información sobre los mismos en el siguiente enlace. \n",
    " \n",
    "La base de datos cuenta con la siguiente información: <br>\n",
    " “Escuela”. Indica si el estudiante en cuestión asistía a la escuela Gabriel Pereira (GP) o\n",
    "a la escuela Mousinho da Silveira (MS). <br>\n",
    " “Sexo”. F para mujeres y H para hombres. <br>\n",
    " “Edad”. Edad del estudiante, en años. <br>\n",
    " “HorasDeEstudio”. Cantidad de horas de estudio: 1 indica menos de dos horas, 2 \n",
    "indica de dos a cinco horas, 3 indica de cinco a diez horas, 4 indica más de diez horas.<br> \n",
    " “Reprobadas”. Indica la cantidad de materias reprobadas previamente. <br>\n",
    " “Internet”. Si el estudiante tenía acceso (yes) o no (no) a internet en su casa.<br> \n",
    " “Faltas”. Cantidad de veces que faltó a clases. <br>\n",
    " “G1”. Calificación del primer periodo, escala del 0 al 20. <br>\n",
    " “G2”. Calificación del segundo periodo, escala del 0 al 20. <br>\n",
    " “G3”. Calificación final, escala del 0 al 20.  <br>\n",
    "\n",
    "Desarrolla  los  siguientes  puntos  en  una Jupyter  Notebook,  tratando,  dentro  de  lo  posible,  que \n",
    "cada  punto  se  trabaje  en  una  celda  distinta.  Los  comentarios  en  el  código  siempre  son \n",
    "bienvenidos, de preferencia, aprovecha el markdown para generar cuadros de descripción que \n",
    "ayuden al lector a comprender el trabajo realizado."
   ]
  },
  {
   "cell_type": "markdown",
   "id": "8b21cfd2",
   "metadata": {},
   "source": [
    "1. Importa los datos del archivo “Calificaciones.csv” a tu ambiente de trabajo. Este archivo \n",
    "lo encontrarás en la misma página donde descargaste esta plantilla. Imprime en consola \n",
    "el tipo de dato de cada variable del data frame. "
   ]
  },
  {
   "cell_type": "code",
   "execution_count": 54,
   "id": "258cb62f",
   "metadata": {},
   "outputs": [
    {
     "name": "stdout",
     "output_type": "stream",
     "text": [
      "Escuela           object\n",
      "Sexo              object\n",
      "Edad               int64\n",
      "HorasDeEstudio     int64\n",
      "Reprobadas         int64\n",
      "Internet          object\n",
      "Faltas             int64\n",
      "G1                 int64\n",
      "G2                 int64\n",
      "G3                 int64\n",
      "dtype: object\n"
     ]
    }
   ],
   "source": [
    "import pandas as pd\n",
    "\n",
    "df = pd.read_csv(\"A1.5 Calificaciones.csv\")\n",
    "\n",
    "print(df.dtypes)"
   ]
  },
  {
   "cell_type": "markdown",
   "id": "70247f32",
   "metadata": {},
   "source": [
    "2. Transforma todas las variables categóricas, de forma que los nuevos datos sean útiles \n",
    "para generar un modelo de regresión lineal múltiple. Presta especial atención a variables \n",
    "que, aunque parecen cuantitativas (contienen números), realmente son cualitativas (los \n",
    "números  representan  una  clase).  Imprime  las  primeras  5  observaciones  de  la  base  de \n",
    "datos  modificada,  demostrando  que  las  variables  cualitativas  desaparecieron  y  fueron \n",
    "reemplazadas por variables adecuadas."
   ]
  },
  {
   "cell_type": "code",
   "execution_count": 55,
   "id": "c62a78c6",
   "metadata": {},
   "outputs": [
    {
     "name": "stdout",
     "output_type": "stream",
     "text": [
      "   Edad  Reprobadas  Faltas  G1  G2  G3     MS  Sexo_Masculino  Estudio_Bajo  \\\n",
      "0    18           0       6   5   6   6  False           False          True   \n",
      "1    17           0       4   5   5   6  False           False          True   \n",
      "2    15           3      10   7   8  10  False           False          True   \n",
      "3    15           0       2  15  14  15  False           False         False   \n",
      "4    16           0       4   6  10  10  False           False          True   \n",
      "\n",
      "   Estudio_Medio  Estudio_Alto  Internet  \n",
      "0          False         False     False  \n",
      "1          False         False      True  \n",
      "2          False         False      True  \n",
      "3           True         False      True  \n",
      "4          False         False     False  \n"
     ]
    }
   ],
   "source": [
    "dummyEscuela = pd.get_dummies(df[\"Escuela\"], drop_first=True)\n",
    "df = pd.concat([df, dummyEscuela], axis=1)\n",
    "df.drop(\"Escuela\", axis=1, inplace=True)\n",
    "\n",
    "dummySexo = pd.get_dummies(df[\"Sexo\"], drop_first=True)\n",
    "dummySexo.columns = [\"Sexo_Masculino\"]\n",
    "df = pd.concat([df, dummySexo], axis=1)\n",
    "df.drop(\"Sexo\", axis=1, inplace=True)\n",
    "\n",
    "dummyHoras = pd.get_dummies(df[\"HorasDeEstudio\"], drop_first=True)\n",
    "dummyHoras.columns = [\"Estudio_Bajo\", \"Estudio_Medio\", \"Estudio_Alto\"]\n",
    "df = pd.concat([df, dummyHoras], axis=1)\n",
    "df.drop(\"HorasDeEstudio\", axis=1, inplace=True)\n",
    "\n",
    "dummyInternet = pd.get_dummies(df[\"Internet\"], drop_first=True)\n",
    "dummyInternet.columns = [\"Internet\"]\n",
    "df.drop(\"Internet\", axis=1, inplace=True)\n",
    "df = pd.concat([df, dummyInternet], axis=1)\n",
    "\n",
    "print(df.head(5))"
   ]
  },
  {
   "cell_type": "markdown",
   "id": "6d033513",
   "metadata": {},
   "source": [
    "3. Identifica valores atípicos para la variable “Faltas”, utilizando el método de Tukey con k=3. \n",
    "Imprime en consola todas las observaciones que se consideren atípicas, y tras revisar las características  de  dichas  observaciones,  agrega  una  línea  de  texto  que  describa  qué planeas hacer con dichos valores  y  por qué.  Realiza  la  acción  descrita  en  caso de  ser necesario."
   ]
  },
  {
   "cell_type": "code",
   "execution_count": 56,
   "id": "aefe78b4",
   "metadata": {},
   "outputs": [
    {
     "name": "stdout",
     "output_type": "stream",
     "text": [
      "     Edad  Reprobadas  Faltas  G1  G2  G3     MS  Sexo_Masculino  \\\n",
      "74     16           0      54  11  12  11  False           False   \n",
      "183    17           0      56   9   9   8  False           False   \n",
      "276    18           0      75  10   9   9  False           False   \n",
      "307    19           1      38   8   9   8  False            True   \n",
      "315    19           1      40  13  11  11  False           False   \n",
      "\n",
      "     Estudio_Bajo  Estudio_Medio  Estudio_Alto  Internet  \n",
      "74           True          False         False      True  \n",
      "183          True          False         False      True  \n",
      "276          True          False         False      True  \n",
      "307         False          False         False      True  \n",
      "315         False           True         False      True  \n"
     ]
    }
   ],
   "source": [
    "import numpy as np\n",
    "q1 = df.Faltas.quantile(0.25)\n",
    "q3 = df.Faltas.quantile(0.75)\n",
    "iqr = q3 - q1\n",
    "li = q1 - 3 * iqr\n",
    "ls = q3 + 3 * iqr\n",
    "out = np.where((df.Faltas <= li) | (df.Faltas >= ls))[0]\n",
    "print(df.iloc[out, :])\n",
    "\n",
    "# Tras revisar las observaciones atípicas, se observa que los valores extremos de \"Faltas\" pueden influir negativamente en el modelo. \n",
    "# Por lo tanto, se eliminarán estas observaciones.\n",
    "\n",
    "df = df.drop(out).reset_index(drop=True)"
   ]
  },
  {
   "cell_type": "markdown",
   "id": "a1993ba5",
   "metadata": {},
   "source": [
    "4. Genera una matriz de correlaciones para encontrar potenciales problemas de \n",
    "colinealidad.  Genera  un  heatmap  para  visualizar  de  forma  más  sencilla  los  resultados. \n",
    "Determina si es necesario eliminar una o múltiples variables, explicando tu razonamiento \n",
    "en una línea de texto. Realiza la acción descrita en caso de ser necesario. \n"
   ]
  },
  {
   "cell_type": "code",
   "execution_count": 57,
   "id": "a3bbc029",
   "metadata": {},
   "outputs": [
    {
     "name": "stdout",
     "output_type": "stream",
     "text": [
      "4 5\n",
      "0.9047966735871248\n",
      "Las variables G1, G2 y G3 están altamente correlacionadas, por lo que se eliminará una de ellas.\n"
     ]
    },
    {
     "data": {
      "image/png": "[encoded data removed]",
      "text/plain": [
       "<Figure size 640x480 with 2 Axes>"
      ]
     },
     "metadata": {},
     "output_type": "display_data"
    }
   ],
   "source": [
    "cor = df.corr().abs().values\n",
    "np.fill_diagonal(cor, 0)\n",
    "\n",
    "i, j = np.unravel_index(cor.argmax(), cor.shape)\n",
    "\n",
    "print(i, j)\n",
    "print(cor[i, j])\n",
    "\n",
    "from seaborn import heatmap\n",
    "\n",
    "heatmap(cor)\n",
    "\n",
    "print(\"Las variables G1, G2 y G3 están altamente correlacionadas, por lo que se eliminará una de ellas.\")\n",
    "\n",
    "df = df.drop([\"G1\"], axis=1)"
   ]
  },
  {
   "cell_type": "markdown",
   "id": "863aa2af",
   "metadata": {},
   "source": [
    "5. Incluye términos de interacción para al menos dos pares de variables,  las que te llame \n",
    "más la atención analizar con esta metodología. Trata de evitar incluir interacciones para \n",
    "todos los pares de variables posibles. Imprime en consola las primeras 5 observaciones \n",
    "de la base de datos con los nuevos términos."
   ]
  },
  {
   "cell_type": "code",
   "execution_count": 58,
   "id": "194c7ffa",
   "metadata": {},
   "outputs": [
    {
     "name": "stdout",
     "output_type": "stream",
     "text": [
      "   Edad  Reprobadas  Faltas  G2  G3     MS  Sexo_Masculino  Estudio_Bajo  \\\n",
      "0    18           0       6   6   6  False           False          True   \n",
      "1    17           0       4   5   6  False           False          True   \n",
      "2    15           3      10   8  10  False           False          True   \n",
      "3    15           0       2  14  15  False           False         False   \n",
      "4    16           0       4  10  10  False           False          True   \n",
      "\n",
      "   Estudio_Medio  Estudio_Alto  Internet  Reprobadas_Faltas  G3_Faltas  \n",
      "0          False         False     False                  0         36  \n",
      "1          False         False      True                  0         24  \n",
      "2          False         False      True                 30        100  \n",
      "3           True         False      True                  0         30  \n",
      "4          False         False     False                  0         40  \n"
     ]
    }
   ],
   "source": [
    "# 1. Faltas * Reprobadas\n",
    "df[\"Reprobadas_Faltas\"] = df[\"Reprobadas\"] * df[\"Faltas\"]\n",
    "\n",
    "# 2. G3 * Faltas\n",
    "df[\"G3_Faltas\"] = df[\"G3\"] * df[\"Faltas\"]\n",
    "\n",
    "# Mostramos las primeras 5 observaciones con los nuevos términos\n",
    "print(df.head(5))"
   ]
  },
  {
   "cell_type": "markdown",
   "id": "daa3fcda",
   "metadata": {},
   "source": [
    "6. Entrena  un  modelo  de  regresión  lineal  múltiple  en  un  subconjunto  de  datos  que \n",
    "corresponda  al  80%  de  los  datos  totales  e  imprime  en  consola  un  resumen  de  los \n",
    "resultados obtenidos. Posteriormente, usando dicho modelo, predice la calificación final \n",
    "del  20%  de  las observaciones  que  no  se  usaron  para  entrenar.  Genera  una  gráfica  de \n",
    "dispersión de las calificaciones finales reales contra las calificaciones finales estimadas \n",
    "por  el  modelo  en  los  datos  de  prueba.  Agrega  una  línea  de  texto  donde  des  una \n",
    "conclusión sobre los resultados del modelo, con base en la información  que se muestra \n",
    "en la gráfica."
   ]
  },
  {
   "cell_type": "code",
   "execution_count": 60,
   "id": "84eb32bc",
   "metadata": {},
   "outputs": [
    {
     "name": "stdout",
     "output_type": "stream",
     "text": [
      "                            OLS Regression Results                            \n",
      "==============================================================================\n",
      "Dep. Variable:                     G3   R-squared:                       0.838\n",
      "Model:                            OLS   Adj. R-squared:                  0.831\n",
      "Method:                 Least Squares   F-statistic:                     128.7\n",
      "Date:                Wed, 27 Aug 2025   Prob (F-statistic):          2.18e-110\n",
      "Time:                        19:35:39   Log-Likelihood:                -636.30\n",
      "No. Observations:                 312   AIC:                             1299.\n",
      "Df Residuals:                     299   BIC:                             1347.\n",
      "Df Model:                          12                                         \n",
      "Covariance Type:            nonrobust                                         \n",
      "=====================================================================================\n",
      "                        coef    std err          t      P>|t|      [0.025      0.975]\n",
      "-------------------------------------------------------------------------------------\n",
      "const                 2.1712      1.715      1.266      0.207      -1.204       5.547\n",
      "Edad                 -0.1916      0.100     -1.920      0.056      -0.388       0.005\n",
      "Reprobadas           -0.6466      0.227     -2.843      0.005      -1.094      -0.199\n",
      "Faltas                0.0206      0.057      0.358      0.720      -0.093       0.134\n",
      "G2                    1.0442      0.037     28.371      0.000       0.972       1.117\n",
      "MS                    0.3549      0.387      0.918      0.359      -0.406       1.116\n",
      "Sexo_Masculino        0.3592      0.237      1.519      0.130      -0.106       0.825\n",
      "Estudio_Bajo          0.0808      0.281      0.288      0.774      -0.472       0.633\n",
      "Estudio_Medio         0.2597      0.366      0.709      0.479      -0.461       0.981\n",
      "Estudio_Alto         -0.7697      0.469     -1.640      0.102      -1.694       0.154\n",
      "Internet             -0.2941      0.297     -0.991      0.322      -0.878       0.290\n",
      "Reprobadas_Faltas     0.0567      0.029      1.940      0.053      -0.001       0.114\n",
      "G3_Faltas             0.0041      0.005      0.838      0.403      -0.006       0.014\n",
      "==============================================================================\n",
      "Omnibus:                      172.060   Durbin-Watson:                   2.131\n",
      "Prob(Omnibus):                  0.000   Jarque-Bera (JB):             1010.015\n",
      "Skew:                          -2.299   Prob(JB):                    4.76e-220\n",
      "Kurtosis:                      10.520   Cond. No.                     1.44e+03\n",
      "==============================================================================\n",
      "\n",
      "Notes:\n",
      "[1] Standard Errors assume that the covariance matrix of the errors is correctly specified.\n",
      "[2] The condition number is large, 1.44e+03. This might indicate that there are\n",
      "strong multicollinearity or other numerical problems.\n"
     ]
    },
    {
     "data": {
      "image/png": "[encoded data removed]",
      "text/plain": [
       "<Figure size 640x480 with 1 Axes>"
      ]
     },
     "metadata": {},
     "output_type": "display_data"
    },
    {
     "name": "stdout",
     "output_type": "stream",
     "text": [
      "Conclusión: La dispersión muestra que el modelo logra capturar la tendencia general de las calificaciones finales, aunque existen desviaciones para algunos casos. Esto sugiere que el modelo tiene capacidad predictiva, pero podría mejorarse con ajustes adicionales o variables relevantes.\n"
     ]
    }
   ],
   "source": [
    "from sklearn.model_selection import train_test_split\n",
    "\n",
    "import statsmodels.api as sm\n",
    "import matplotlib.pyplot as plt\n",
    "\n",
    "# Definir variables predictoras y variable objetivo\n",
    "X = df.drop(\"G3\", axis=1)\n",
    "y = df[\"G3\"]\n",
    "\n",
    "# Separar en conjunto de entrenamiento (80%) y prueba (20%)\n",
    "X_train, X_test, y_train, y_test = train_test_split(X, y, test_size=0.2, random_state=42)\n",
    "\n",
    "# Entrenar el modelo de regresión lineal múltiple\n",
    "X_train_const = sm.add_constant(X_train)\n",
    "\n",
    "X_train_const = X_train_const.copy()\n",
    "for col in X_train_const.select_dtypes(include='bool').columns:\n",
    "    X_train_const[col] = X_train_const[col].astype(int)\n",
    "\n",
    "model = sm.OLS(y_train, X_train_const).fit()\n",
    "\n",
    "# Imprimir resumen del modelo\n",
    "print(model.summary())\n",
    "\n",
    "# Predicción en el conjunto de prueba\n",
    "X_test_const = sm.add_constant(X_test)\n",
    "y_pred = model.predict(X_test_const)\n",
    "\n",
    "# Gráfica de dispersión: reales vs estimados\n",
    "plt.scatter(y_test, y_pred, alpha=0.7)\n",
    "plt.xlabel(\"Calificación final real (G3)\")\n",
    "plt.ylabel(\"Calificación final estimada\")\n",
    "plt.title(\"Calificaciones reales vs estimadas (conjunto de prueba)\")\n",
    "plt.plot([y_test.min(), y_test.max()], [y_test.min(), y_test.max()], 'r--')\n",
    "plt.show()\n",
    "\n",
    "print(\"Conclusión: La dispersión muestra que el modelo logra capturar la tendencia general de las calificaciones finales, aunque existen desviaciones para algunos casos. Esto sugiere que el modelo tiene capacidad predictiva, pero podría mejorarse con ajustes adicionales o variables relevantes.\")"
   ]
  }
 ],
 "metadata": {
  "kernelspec": {
   "display_name": "Python 3",
   "language": "python",
   "name": "python3"
  },
  "language_info": {
   "codemirror_mode": {
    "name": "ipython",
    "version": 3
   },
   "file_extension": ".py",
   "mimetype": "text/x-python",
   "name": "python",
   "nbconvert_exporter": "python",
   "pygments_lexer": "ipython3",
   "version": "3.12.3"
  }
 },
 "nbformat": 4,
 "nbformat_minor": 5
}
