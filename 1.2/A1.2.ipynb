{
 "cells": [
  {
   "cell_type": "markdown",
   "id": "f1f9a793",
   "metadata": {},
   "source": [
    "# A1.2 Regresión lineal simple\n",
    "\n",
    "La felicidad no es algo fácilmente mensurable, aun así, la publicación  World Happiness Report (WHR) ha tratado desde el 2012 de medir los niveles de felicidad de la gran mayoría de los países del mundo. Los resultados que obtienen año con año se publican de forma abierta, así como los datos que lograron capturar.  \n",
    "\n",
    "La variable de mayor interés para este ejercicio es el nivel general de felicidad por país, evaluado en una escala del 0 al 10. Una de las variables que en dicho reporte han expuesto como relevante para determinar la felicidad de una nación es su producto interno bruto, o gross domestic product (GDP). Los datos de GDP por país se pueden descargar desde el sitio de The World Bank, una institución financiera internacional.  \n",
    " \n",
    "En  este  caso,  te  presento  un  archivo  de  nombre  “A1.2  Felicidad  y  GDP.csv”  (que  podrás encontrar en la misma página de la plataforma donde descargaste esta plantilla), donde podrás encontrar el nivel de felicidad del último reporte del WHR (2022) y el GDP (2020) de los países para  los  que  se  cuenta  con  información.  Los  datos  de  niveles  de  felicidad  se  descargaron directamente  del  sitio  de  internet  del  WHR,  y  los  datos  de  GDP  se  descargaron  del  sitio  de internet de The World Bank. \n",
    " \n",
    "La base de datos cuenta con la siguiente información: <br>\n",
    " “Pais”. Se describe el nombre del país. <br>\n",
    " “Felicidad”. Un número entre 0 y 10 que describe el nivel de felicidad. <br>\n",
    " “GDP”. Un número que describe el producto interno bruto.  <br>\n",
    "Es  momento  de  poner  en  práctica  los  conocimientos  que  hemos adquirido  para  encontrar  un modelo de regresión lineal simple en el que relaciones la felicidad y el GDP de un país. Antes de continuar,  pregúntate:  ¿qué  dirección  crees  que  tendrá  la  asociación  (a  mayor  GDP,  mayor  o menor felicidad)? \n",
    " \n",
    "Desarrolla los siguientes puntos en una Jupyter Notebook, tratando, dentro de lo posible, que cada punto se trabaje en una celda distinta. Los comentarios en el código siempre son bienvenidos, de preferencia, aprovecha el markdown para generar cuadros de descripción que ayuden al lector a comprender el trabajo realizado. \n",
    "\n",
    "1. Importa  los  datos  del  archivo  “Felicidad  y  GDP.csv”  a  tu  ambiente  de  trabajo.  Por curiosidad, revisemos cuáles son los países más felices, así como los que tienen mayor GDP.  Imprime  en  consola  un  resumen  de  10  filas  de  la  base  de  datos,  previamente ordenada  de  mayor  a  menor  felicidad.  Te  recomiendo  que  hagas  uso  de  la  función “sort_values()”, especificando como primer parámetro el nombre de la columna de interés, y el parámetro “ascending” con valor “False”. Repite el proceso, pero ahora ordenando la base de datos de mayor a menor GDP. "
   ]
  },
  {
   "cell_type": "code",
   "execution_count": 31,
   "id": "c65c7c95",
   "metadata": {},
   "outputs": [],
   "source": [
    "# Importamos librerías que usaremos en la libreta\n",
    "import numpy as np\n",
    "import pandas as pd\n",
    "import matplotlib.pyplot as plt\n",
    "import scipy.stats as st\n",
    "import statsmodels.api as sm\n",
    "%matplotlib inline"
   ]
  },
  {
   "cell_type": "code",
   "execution_count": 9,
   "id": "06cd9e55",
   "metadata": {},
   "outputs": [
    {
     "name": "stdout",
     "output_type": "stream",
     "text": [
      "Ordenado de mayor a menor felicidad \n",
      "           Pais  Felicidad           GDP\n",
      "0      Finland     7.8210  2.718370e+11\n",
      "1      Denmark     7.6362  3.560850e+11\n",
      "2      Iceland     7.5575  2.171808e+10\n",
      "3  Switzerland     7.5116  7.522480e+11\n",
      "4  Netherlands     7.4149  9.138650e+11\n",
      "5   Luxembourg     7.4040  7.335313e+10\n",
      "6       Sweden     7.3843  5.414870e+11\n",
      "7       Norway     7.3651  3.621980e+11\n",
      "8       Israel     7.3638  4.071010e+11\n",
      "9  New Zealand     7.1998  2.117350e+11\n",
      "Ordenado de mayor a menor GDP \n",
      "                Pais  Felicidad           GDP\n",
      "15    United States     6.9768  2.089370e+13\n",
      "70            China     5.5853  1.468770e+13\n",
      "52            Japan     6.0389  5.040110e+12\n",
      "13          Germany     7.0341  3.846410e+12\n",
      "16   United Kingdom     6.9425  2.756900e+12\n",
      "130           India     3.7771  2.667690e+12\n",
      "19           France     6.6867  2.630320e+12\n",
      "29            Italy     6.4667  1.892570e+12\n",
      "14           Canada     7.0251  1.645420e+12\n",
      "57      South Korea     5.9351  1.637900e+12\n"
     ]
    }
   ],
   "source": [
    "# Leemos el archivo con los datos de Felicidad y GDP\n",
    "data = pd.read_csv(\"A1.2 Felicidad y GDP.csv\")\n",
    "\n",
    "print(\"Ordenado de mayor a menor felicidad \\n\",data.head(10))\n",
    "print(\"Ordenado de mayor a menor GDP \\n\",data.sort_values(\"GDP\", ascending=False).head(10))"
   ]
  },
  {
   "cell_type": "markdown",
   "id": "41f960f7",
   "metadata": {},
   "source": [
    "2. Grafica las observaciones, definiendo el valor de “y” como el nivel de felicidad y el valor \n",
    "de “x” como el logaritmo base 10 del GDP. Típicamente, cuando trabajamos con números \n",
    "tan  grandes  como  lo  es  el  GDP,  es  mucho  más  común  encontrar  asociaciones  con  el \n",
    "logaritmo  base  10  de  la  variable,  que  con  la  variable  misma.  Esto  no  es  un  problema, \n",
    "siempre y cuando nuestra conclusión incluya este recordatorio. Es decir, si descubrimos \n",
    "que  sí  existe  una  asociación,  diríamos  que:  “encontramos  una  asociación \n",
    "estadísticamente  significativa  entre  los  niveles  de  felicidad  y  el  logaritmo  base  10  del \n",
    "GDP”. La librería numpy tiene la función “log10()”, puedes usarla para transformar el GDP. \n"
   ]
  },
  {
   "cell_type": "code",
   "execution_count": null,
   "id": "f39fc505",
   "metadata": {},
   "outputs": [
    {
     "data": {
      "image/png": "[encoded data removed]",
      "text/plain": [
       "<Figure size 640x480 with 1 Axes>"
      ]
     },
     "metadata": {},
     "output_type": "display_data"
    }
   ],
   "source": [
    "# Definimos \"x\" y \"y\" como el logaritmo base 10 del GDP y la felicidad de los Países\n",
    "y = data.Felicidad\n",
    "x = np.log10(data.GDP)\n",
    "\n",
    "# Graficamos observaciones\n",
    "plt.scatter(x, y, alpha = 0.5)\n",
    "\n",
    "plt.ylabel(\"Niveles de felicidad\")\n",
    "plt.xlabel(\"Logaritmo base 10 del GDP \")\n",
    "\n",
    "plt.show()"
   ]
  },
  {
   "cell_type": "markdown",
   "id": "62d79966",
   "metadata": {},
   "source": [
    "3. Calcula los valores óptimos de los dos coeficientes del modelo de regresión lineal simple. \n",
    "Realiza este proceso “a mano”, sin apoyarte con funciones preestablecidas de librerías \n",
    "de análisis de datos. Al finalizar, imprime en consola ambos valores. Siempre es bueno \n",
    "especificar qué es el valor que estamos imprimiendo, por lo que te recomiendo usar una \n",
    "sintaxis similar a: print(“B1 =”, B1). "
   ]
  },
  {
   "cell_type": "code",
   "execution_count": 14,
   "id": "0b74bab8",
   "metadata": {},
   "outputs": [
    {
     "name": "stdout",
     "output_type": "stream",
     "text": [
      "B0 = -1.3023500570747277\n",
      "B1 = 0.6281284658810408\n"
     ]
    }
   ],
   "source": [
    "xBar = np.mean(x)\n",
    "yBar = np.mean(y)\n",
    "\n",
    "# Separamos B1 en numerador y denominador para facilitar el calculo\n",
    "B1num = sum((x-xBar)*(y-yBar))\n",
    "B1den = sum((x-xBar)**2)\n",
    "B1 = B1num / B1den\n",
    "\n",
    "B0 = yBar - (B1*xBar)\n",
    "\n",
    "print(\"B0 =\",B0)\n",
    "print(\"B1 =\",B1)"
   ]
  },
  {
   "cell_type": "markdown",
   "id": "87253ecd",
   "metadata": {},
   "source": [
    "4. Realiza una nueva gráfica en la que se muestren tanto las observaciones, como la línea \n",
    "que  representa  el  modelo  de  regresión  lineal  simple.  Te  recomiendo  usar  un  valor  de \n",
    "transparencia de 0.75, tanto para las observaciones como para la línea."
   ]
  },
  {
   "cell_type": "code",
   "execution_count": 15,
   "id": "18a36699",
   "metadata": {},
   "outputs": [
    {
     "data": {
      "image/png": "[encoded data removed]",
      "text/plain": [
       "<Figure size 640x480 with 1 Axes>"
      ]
     },
     "metadata": {},
     "output_type": "display_data"
    }
   ],
   "source": [
    "plt.scatter(x, y, alpha = 0.75)\n",
    "\n",
    "plt.ylabel(\"Niveles de felicidad\")\n",
    "plt.xlabel(\"Logaritmo base 10 del GDP \")\n",
    "\n",
    "# Usando x, B0, y B1, guardamos el valor de Y estimada en una variable de nombre yHat\n",
    "yHat = B0 + B1*x\n",
    "\n",
    "plt.plot(x, yHat, c=\"r\", linewidth=3, alpha=0.75)\n",
    "\n",
    "plt.show()"
   ]
  },
  {
   "cell_type": "markdown",
   "id": "7a1f2fc6",
   "metadata": {},
   "source": [
    "5. Calcula el RSS del modelo e imprímelo en la consola."
   ]
  },
  {
   "cell_type": "code",
   "execution_count": 16,
   "id": "4e7456cb",
   "metadata": {},
   "outputs": [
    {
     "name": "stdout",
     "output_type": "stream",
     "text": [
      "RSS = 131.3738317732635\n"
     ]
    }
   ],
   "source": [
    "RSS = sum((y-yHat)**2)\n",
    "print(\"RSS =\", RSS)"
   ]
  },
  {
   "cell_type": "markdown",
   "id": "5c030719",
   "metadata": {},
   "source": [
    "6. Calcula el error estándar e intervalo de confianza de 𝛽̂1, e imprime dichos valores en la \n",
    "consola. Siempre es bueno especificar qué es el valor que estamos imprimiendo, por lo \n",
    "que te recomiendo usar una sintaxis similar a: print(“SE =”, SE). Asimismo, determina si \n",
    "la asociación entre la felicidad y el GDP es significativa en esta población, imprimiendo \n",
    "en consola un mensaje que claramente explique el por qué de la afirmación, evidenciado \n",
    "por alguna métrica calculada. "
   ]
  },
  {
   "cell_type": "code",
   "execution_count": 26,
   "id": "4f71450b",
   "metadata": {},
   "outputs": [
    {
     "name": "stdout",
     "output_type": "stream",
     "text": [
      "Error estándar B1 = 0.09983378435340727\n",
      "Intervalo de confianza: ( 0.4307393313073311 , 0.8255176004547504 )\n",
      "t-statistic = 6.291742519320846\n",
      "p-value = 3.825717831968765e-09\n",
      "\n",
      "Ya que el p value es menor que 0.05, podemos decir bajo un estándar de 95% de probabilidad que hay una asociación \n",
      "estadística significativa positiva entre el nivel de felicidad y el logaritmo base 10 del GDP\n",
      "\n"
     ]
    }
   ],
   "source": [
    "n=len(x)\n",
    "SEB1 = np.sqrt(RSS / ((n-2)*sum((x-xBar)**2)))\n",
    "\n",
    "print(\"Error estándar B1 =\",SEB1)\n",
    "\n",
    "\n",
    "\n",
    "per = st.t.interval(0.95, n-2)[1]\n",
    "\n",
    "CIlow = B1 - per * SEB1\n",
    "CIhigh = B1 + per * SEB1\n",
    "\n",
    "print(\"Intervalo de confianza: (\",CIlow,\",\",CIhigh,\")\")\n",
    "\n",
    "\n",
    "\n",
    "t = B1 / SEB1\n",
    "p = st.t.sf(abs(t),n-2)*2\n",
    "print(\"t-statistic =\",t)\n",
    "print(\"p-value =\",p)\n",
    "\n",
    "\n",
    "print(\"\"\"\n",
    "Ya que el p value es menor que 0.05, podemos decir bajo un estándar de 95% de probabilidad que hay una asociación \n",
    "estadística significativa positiva entre el nivel de felicidad y el logaritmo base 10 del GDP\n",
    "\"\"\")\n"
   ]
  },
  {
   "cell_type": "markdown",
   "id": "fefb7304",
   "metadata": {},
   "source": [
    "7. Calcula  el  residual  standard  error  y  la  𝑅2  del  modelo,  e  imprime  dichos  valores  en  la \n",
    "consola. Para el cálculo de 𝑅2, te recomiendo primero calcular el total sum of squares, o \n",
    "TSS. Para el cálculo del mismo, pon mucha atención al orden de los paréntesis, pues no \n",
    "es lo mismo sumar el cuadrado de múltiples valores, que sumar múltiples valores y elevar \n",
    "el  resultado  al  cuadrado.  Adicionalmente,  agrega  un  comentario,  imprimiéndolo  en \n",
    "consola, sobre tu opinión del valor de 𝑅2 obtenido con el modelo. "
   ]
  },
  {
   "cell_type": "code",
   "execution_count": 30,
   "id": "1dd865c3",
   "metadata": {},
   "outputs": [
    {
     "name": "stdout",
     "output_type": "stream",
     "text": [
      "Residual standard error = 0.9721807858537376\n",
      "R^2 = 0.22166361654970657\n",
      "\n",
      "Ya que nuestro R^2 es bastante bajo, sabemos que las variables de entrada solo explican el 22% del comportamiento de la variable de salida.\n",
      "Esto sugiere que no hay una correlación fuerte entre el logaritmo base 10 del GDP y los niveles de felicidad.\n",
      "\n"
     ]
    }
   ],
   "source": [
    "RSE=np.sqrt(RSS/(n-2))\n",
    "TSS=sum((y-yBar)**2)\n",
    "\n",
    "R2=1-RSS/TSS\n",
    "\n",
    "print(\"Residual standard error =\",RSE)\n",
    "print(\"R^2 =\",R2)\n",
    "\n",
    "print(\"\"\"\n",
    "Ya que nuestro R^2 es bastante bajo, sabemos que las variables de entrada solo explican el 22% del comportamiento de la variable de salida.\n",
    "Esto sugiere que no hay una correlación fuerte entre el logaritmo base 10 del GDP y los niveles de felicidad.\n",
    "\"\"\")"
   ]
  },
  {
   "cell_type": "markdown",
   "id": "83fc3d93",
   "metadata": {},
   "source": [
    "8. Finalmente, usa la función “OLS()” de la librería statsmodels.api para verificar que los \n",
    "resultados  de  todos  los  puntos  anteriores  son  los  esperados.  Si  el  resumen  de  los \n",
    "resultados te entrega un p-value = 0.000, puedes observar el resultado con muchas más \n",
    "cifras significativas usando la función “pvalues” de la misma librería. Por ejemplo: si los \n",
    "resultados de ajustar el modelo los almacenaste en una variable de nombre “var”, puedes \n",
    "usar la siguiente sintaxis: var.pvalues. Por default, el RSE no se muestra en el resumen, \n",
    "para  revisarlo  utiliza  la  línea  de  código  print(var.scale**.5),  de  nuevo  asumiendo  que \n",
    "almacenaste el resultado en una variable de nombre “var”. "
   ]
  },
  {
   "cell_type": "code",
   "execution_count": 36,
   "id": "0732c2d4",
   "metadata": {},
   "outputs": [
    {
     "name": "stdout",
     "output_type": "stream",
     "text": [
      "                            OLS Regression Results                            \n",
      "==============================================================================\n",
      "Dep. Variable:              Felicidad   R-squared:                       0.222\n",
      "Model:                            OLS   Adj. R-squared:                  0.216\n",
      "Method:                 Least Squares   F-statistic:                     39.59\n",
      "Date:                Sun, 17 Aug 2025   Prob (F-statistic):           3.83e-09\n",
      "Time:                        21:22:26   Log-Likelihood:                -195.09\n",
      "No. Observations:                 141   AIC:                             394.2\n",
      "Df Residuals:                     139   BIC:                             400.1\n",
      "Df Model:                           1                                         \n",
      "Covariance Type:            nonrobust                                         \n",
      "==============================================================================\n",
      "                 coef    std err          t      P>|t|      [0.025      0.975]\n",
      "------------------------------------------------------------------------------\n",
      "const         -1.3024      1.094     -1.191      0.236      -3.465       0.860\n",
      "GDP            0.6281      0.100      6.292      0.000       0.431       0.826\n",
      "==============================================================================\n",
      "Omnibus:                        2.648   Durbin-Watson:                   0.455\n",
      "Prob(Omnibus):                  0.266   Jarque-Bera (JB):                2.523\n",
      "Skew:                          -0.326   Prob(JB):                        0.283\n",
      "Kurtosis:                       2.944   Cond. No.                         148.\n",
      "==============================================================================\n",
      "\n",
      "Notes:\n",
      "[1] Standard Errors assume that the covariance matrix of the errors is correctly specified.\n",
      "const    2.357975e-01\n",
      "GDP      3.825718e-09\n",
      "dtype: float64\n",
      "RSE = 0.9721807858537376\n"
     ]
    }
   ],
   "source": [
    "model = sm.OLS(y,sm.add_constant(x))\n",
    "results = model.fit()\n",
    "\n",
    "print(results.summary())\n",
    "print(results.pvalues)\n",
    "print(\"RSE =\",results.scale**.5)"
   ]
  }
 ],
 "metadata": {
  "kernelspec": {
   "display_name": "Python 3",
   "language": "python",
   "name": "python3"
  },
  "language_info": {
   "codemirror_mode": {
    "name": "ipython",
    "version": 3
   },
   "file_extension": ".py",
   "mimetype": "text/x-python",
   "name": "python",
   "nbconvert_exporter": "python",
   "pygments_lexer": "ipython3",
   "version": "3.12.3"
  }
 },
 "nbformat": 4,
 "nbformat_minor": 5
}
